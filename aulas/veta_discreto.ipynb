{
 "cells": [
  {
   "cell_type": "code",
   "execution_count": 1,
   "metadata": {},
   "outputs": [
    {
     "name": "stdout",
     "output_type": "stream",
     "text": [
      "muB_teo =\n",
      "\n",
      "   0.5000\n",
      "   0.5000\n",
      "   0.5000\n",
      "\n",
      "muB_sim =\n",
      "\n",
      "   0.4994\n",
      "   0.5001\n",
      "   0.5000\n",
      "\n",
      "covB_teo =\n",
      "\n",
      "   0.2500        0        0\n",
      "        0   0.2500        0\n",
      "        0        0   0.2500\n",
      "\n",
      "covB_sim =\n",
      "\n",
      "   2.5000e-01   5.7605e-04   2.5403e-04\n",
      "   5.7605e-04   2.5000e-01   1.1900e-04\n",
      "   2.5403e-04   1.1900e-04   2.5000e-01\n",
      "\n",
      "muX_teo =\n",
      "\n",
      "   0.5000\n",
      "   0.2500\n",
      "   0.1250\n",
      "\n",
      "muX_sim =\n",
      "\n",
      "   0.4994\n",
      "   0.2503\n",
      "   0.1254\n",
      "\n",
      "covX_teo =\n",
      "\n",
      "   0.250000   0.125000   0.062500\n",
      "   0.125000   0.187500   0.093750\n",
      "   0.062500   0.093750   0.109375\n",
      "\n",
      "covX_sim =\n",
      "\n",
      "   0.250000   0.125310   0.062780\n",
      "   0.125310   0.187663   0.094019\n",
      "   0.062780   0.094019   0.109685\n",
      "\n"
     ]
    }
   ],
   "source": [
    "N = 1e6;\n",
    "\n",
    "B1 = randi([0 1], 1, N);\n",
    "B2 = randi([0 1], 1, N);\n",
    "B3 = randi([0 1], 1, N);\n",
    "\n",
    "X1 = B1;\n",
    "X2 = B1 .* B2;\n",
    "X3 = B1 .* B2 .* B3;\n",
    "\n",
    "muB_teo = [1/2; 1/2; 1/2]\n",
    "muB_sim = mean([B1' B2' B3'])'\n",
    "\n",
    "covB_teo = [1/4 0 0; 0 1/4 0; 0 0 1/4]\n",
    "covB_sim = cov([B1' B2' B3'])\n",
    "\n",
    "muX_teo = [1/2; 1/4; 1/8]\n",
    "muX_sim = mean([X1' X2' X3'])'\n",
    "\n",
    "covX_teo = [1/4 1/8 1/16; 1/8 3/16 3/32; 1/16 3/32 7/64]\n",
    "covX_sim = cov([X1' X2' X3'])"
   ]
  }
 ],
 "metadata": {
  "kernelspec": {
   "display_name": "Octave",
   "language": "octave",
   "name": "octave"
  },
  "language_info": {
   "file_extension": ".m",
   "help_links": [
    {
     "text": "GNU Octave",
     "url": "https://www.gnu.org/software/octave/support.html"
    },
    {
     "text": "Octave Kernel",
     "url": "https://github.com/Calysto/octave_kernel"
    },
    {
     "text": "MetaKernel Magics",
     "url": "https://metakernel.readthedocs.io/en/latest/source/README.html"
    }
   ],
   "mimetype": "text/x-octave",
   "name": "octave",
   "version": "6.2.0"
  }
 },
 "nbformat": 4,
 "nbformat_minor": 2
}
