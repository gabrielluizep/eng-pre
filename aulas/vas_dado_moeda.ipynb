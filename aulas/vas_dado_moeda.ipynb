{
 "cells": [
  {
   "cell_type": "code",
   "execution_count": 2,
   "metadata": {},
   "outputs": [
    {
     "name": "stdout",
     "output_type": "stream",
     "text": [
      "pmfXY_sim =\n",
      "\n",
      "   0.1666   0.1668        0        0\n",
      "   0.0835   0.1666   0.0833        0\n",
      "   0.0417   0.1251   0.1250   0.0414\n",
      "\n",
      "pmfXY_teo =\n",
      "\n",
      "   0.1667   0.1667        0        0\n",
      "   0.0833   0.1667   0.0833        0\n",
      "   0.0417   0.1250   0.1250   0.0417\n",
      "\n",
      "covXY_sim = 0.3327\n",
      "covXY_teo = 0.3333\n"
     ]
    }
   ],
   "source": [
    "pkg load statistics;\n",
    "\n",
    "N = 1e6;\n",
    "\n",
    "x = 1:3;\n",
    "y = 0:3;\n",
    "\n",
    "X = randi([1 3], 1, N);\n",
    "Y = zeros(1, N);\n",
    "\n",
    "% Alternativa mais lenta\n",
    "% for(i = 1 : N)\n",
    "%   Y(i) = binornd(X(i), 1/2);\n",
    "% end\n",
    "\n",
    "for(i = 1 : length(x))\n",
    "  idx = X == x(i);\n",
    "\n",
    "  Y(idx) = binornd(x(i), 1/2, 1, sum(idx));\n",
    "end\n",
    "\n",
    "pmfXY_sim = hist3([X' Y'], {x, y}) / N\n",
    "pmfXY_teo = [1/6  1/6  0    0   ;\n",
    "             1/12 2/12 1/12 0   ;\n",
    "             1/24 3/24 3/24 1/24]\n",
    "\n",
    "covXY_sim = cov(X, Y)\n",
    "covXY_teo = 1/3"
   ]
  }
 ],
 "metadata": {
  "kernelspec": {
   "display_name": "Octave",
   "language": "octave",
   "name": "octave"
  },
  "language_info": {
   "file_extension": ".m",
   "help_links": [
    {
     "text": "GNU Octave",
     "url": "https://www.gnu.org/software/octave/support.html"
    },
    {
     "text": "Octave Kernel",
     "url": "https://github.com/Calysto/octave_kernel"
    },
    {
     "text": "MetaKernel Magics",
     "url": "https://metakernel.readthedocs.io/en/latest/source/README.html"
    }
   ],
   "mimetype": "text/x-octave",
   "name": "octave",
   "version": "6.2.0"
  }
 },
 "nbformat": 4,
 "nbformat_minor": 2
}
