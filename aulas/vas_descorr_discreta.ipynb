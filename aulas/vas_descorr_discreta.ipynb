{
 "cells": [
  {
   "cell_type": "code",
   "execution_count": 1,
   "metadata": {},
   "outputs": [
    {
     "name": "stdout",
     "output_type": "stream",
     "text": [
      "pmfXY_sim =\n",
      "\n",
      "        0   0.2504        0\n",
      "   0.2497        0   0.2496\n",
      "        0   0.2502        0\n",
      "\n",
      "pmfXY_teo =\n",
      "\n",
      "        0   0.2500        0\n",
      "   0.2500        0   0.2500\n",
      "        0   0.2500        0\n",
      "\n",
      "pmfX_sim =\n",
      "\n",
      "   0.2504   0.4994   0.2502\n",
      "\n",
      "pmfX_teo =\n",
      "\n",
      "   0.2500   0.5000   0.2500\n",
      "\n",
      "pmfY_sim =\n",
      "\n",
      "   0.2497   0.5006   0.2496\n",
      "\n",
      "pmfY_teo =\n",
      "\n",
      "   0.2500   0.5000   0.2500\n",
      "\n",
      "rhoXY_sim = -3.3034e-08\n",
      "rhoXY_teo = 0\n"
     ]
    }
   ],
   "source": [
    "pkg load statistics;\n",
    "\n",
    "N = 1e6;\n",
    "\n",
    "S = [0 1; 1 0; 0 -1; -1 0];\n",
    "\n",
    "idx = randi([1 4], 1, N);\n",
    "\n",
    "X = S(idx, 1)';\n",
    "Y = S(idx, 2)';\n",
    "\n",
    "x = -1:1;\n",
    "y = -1:1;\n",
    "\n",
    "pmfXY_sim = hist3([X' Y'], {x y}) / N\n",
    "pmfXY_teo = [0 1/4 0; 1/4 0 1/4; 0 1/4 0]\n",
    "\n",
    "pmfX_sim = hist(X, x) / N\n",
    "pmfX_teo = [1/4 1/2 1/4]\n",
    "\n",
    "pmfY_sim = hist(Y, y) / N\n",
    "pmfY_teo = [1/4 1/2 1/4]\n",
    "\n",
    "rhoXY_sim = cov(X, Y) / sqrt(var(X) * var(Y))\n",
    "rhoXY_teo = 0"
   ]
  }
 ],
 "metadata": {
  "kernelspec": {
   "display_name": "Octave",
   "language": "octave",
   "name": "octave"
  },
  "language_info": {
   "file_extension": ".m",
   "help_links": [
    {
     "text": "GNU Octave",
     "url": "https://www.gnu.org/software/octave/support.html"
    },
    {
     "text": "Octave Kernel",
     "url": "https://github.com/Calysto/octave_kernel"
    },
    {
     "text": "MetaKernel Magics",
     "url": "https://metakernel.readthedocs.io/en/latest/source/README.html"
    }
   ],
   "mimetype": "text/x-octave",
   "name": "octave",
   "version": "6.2.0"
  }
 },
 "nbformat": 4,
 "nbformat_minor": 2
}
