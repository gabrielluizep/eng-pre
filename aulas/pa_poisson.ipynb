{
 "cells": [
  {
   "cell_type": "code",
   "execution_count": 8,
   "metadata": {},
   "outputs": [
    {
     "name": "stdout",
     "output_type": "stream",
     "text": [
      "\u001b[?2004l\n",
      "\u001b[?2004h\u001b[?2004l\n",
      "\u001b[?2004h\u001b[?2004l\n",
      "\u001b[?2004h\u001b[?2004l\n",
      "\u001b[?2004h"
     ]
    },
    {
     "name": "stdout",
     "output_type": "stream",
     "text": [
      "\u001b[?2004l\n",
      "\u001b[?2004h\u001b[?2004l\n",
      "\u001b[?2004h\u001b[?2004l\n",
      "error: 'dt' undefined near line 1, column 1\n",
      "\u001b[?2004h\u001b[?2004l\n",
      "\u001b[?2004h\u001b[?2004l\n",
      "error: 't' undefined near line 1, column 21\n",
      "\u001b[?2004h\u001b[?2004l\n",
      "\u001b[?2004h\u001b[?2004l\n",
      "\u001b[?2004h\u001b[?2004l\n",
      "\u001b[?2004h\u001b[?2004l\n",
      "\u001b[?2004h\u001b[?2004l\n",
      "error: invalid use of 'end': may only be used to index existing value\n",
      "\u001b[?2004h\u001b[?2004l\n",
      "\u001b[?2004h\u001b[?2004l\n",
      "error: 't' undefined near line 1, column 6\n",
      "\u001b[?2004h"
     ]
    }
   ],
   "source": [
    "pkg load statistics;\n",
    "\n",
    "N = 1;\n",
    "\n",
    "lambda = 3.1;\n",
    "\n",
    "dt: 0.01; t = 0 : dt : 20;\n",
    "\n",
    "X = zeros(1, length(t));\n",
    "T = 0;\n",
    "while T < t(end)\n",
    "  T += exprnd(1/lambda);\n",
    "  X(i, :) += (t > T);\n",
    "endwhile\n",
    "\n",
    "plot(t, X(1:50, :));\n"
   ]
  }
 ],
 "metadata": {
  "kernelspec": {
   "display_name": "Octave",
   "language": "octave",
   "name": "octave"
  },
  "language_info": {
   "name": "octave"
  }
 },
 "nbformat": 4,
 "nbformat_minor": 2
}
